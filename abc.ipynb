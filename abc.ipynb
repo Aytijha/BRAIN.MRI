{
 "cells": [
  {
   "cell_type": "code",
   "execution_count": 4,
   "metadata": {},
   "outputs": [
    {
     "name": "stdout",
     "output_type": "stream",
     "text": [
      " * Serving Flask app '__main__' (lazy loading)\n",
      " * Environment: production\n",
      "\u001b[31m   WARNING: This is a development server. Do not use it in a production deployment.\u001b[0m\n",
      "\u001b[2m   Use a production WSGI server instead.\u001b[0m\n",
      " * Debug mode: off\n"
     ]
    },
    {
     "name": "stderr",
     "output_type": "stream",
     "text": [
      " * Running on http://127.0.0.1:5000 (Press CTRL+C to quit)\n",
      "127.0.0.1 - - [24/Jun/2022 00:51:53] \"GET / HTTP/1.1\" 200 -\n",
      "127.0.0.1 - - [24/Jun/2022 00:51:54] \"GET /static/assets/twitter.png HTTP/1.1\" 304 -\n",
      "127.0.0.1 - - [24/Jun/2022 00:51:54] \"GET /static/assets/pexels-tima-miroshnichenko-6010766.mp4 HTTP/1.1\" 206 -\n",
      "127.0.0.1 - - [24/Jun/2022 00:51:54] \"GET /static/assets/instagram.png HTTP/1.1\" 304 -\n",
      "127.0.0.1 - - [24/Jun/2022 00:51:54] \"GET /static/assets/icons8-github-50.png HTTP/1.1\" 304 -\n"
     ]
    }
   ],
   "source": [
    "import os\n",
    "import urllib.request\n",
    "from flask import Flask, flash, request, redirect, url_for, render_template\n",
    "from werkzeug.utils import secure_filename\n",
    "\n",
    "ASSET_FOLDER = 'static/assets/'\n",
    "\n",
    "app = Flask(__name__)\n",
    "app.config['ASSET_FOLDER'] = ASSET_FOLDER\n",
    "\n",
    "github_icon = os.path.join(app.config['ASSET_FOLDER'], 'icons8-github-50.png')\n",
    "instagram_icon = os.path.join(app.config['ASSET_FOLDER'], 'instagram.png')\n",
    "twitter_icon = os.path.join(app.config['ASSET_FOLDER'], 'twitter.png')\n",
    "bg_video = os.path.join(app.config['ASSET_FOLDER'], 'pexels-tima-miroshnichenko-6010766.mp4')\n",
    "    \n",
    "@app.route('/')\n",
    "def upload_form():\n",
    "    return render_template('index.html', type=\"\", githubicon=github_icon, instagramicon=instagram_icon, twittericon=twitter_icon, bgvideo=bg_video)\n",
    "\n",
    "@app.route('/', methods=['POST'])\n",
    "def upload_image():\n",
    "    print('post')\n",
    "    c = 'xyz'\n",
    "    return render_template('index.html', type=\"Patient is suffering from \"+c+\" type Alzheimers\", githubicon=github_icon, instagramicon=instagram_icon, twittericon=twitter_icon, bgvideo=bg_video)\n",
    "\n",
    "if __name__ == \"__main__\":\n",
    "    app.run()"
   ]
  },
  {
   "cell_type": "code",
   "execution_count": null,
   "metadata": {},
   "outputs": [],
   "source": []
  }
 ],
 "metadata": {
  "kernelspec": {
   "display_name": "Python 3.10.0 64-bit",
   "language": "python",
   "name": "python3"
  },
  "language_info": {
   "codemirror_mode": {
    "name": "ipython",
    "version": 3
   },
   "file_extension": ".py",
   "mimetype": "text/x-python",
   "name": "python",
   "nbconvert_exporter": "python",
   "pygments_lexer": "ipython3",
   "version": "3.10.0"
  },
  "orig_nbformat": 4,
  "vscode": {
   "interpreter": {
    "hash": "42d631c97d3a7942c4c370955af34a4195632f6be3582dbc391d521a11ed78e3"
   }
  }
 },
 "nbformat": 4,
 "nbformat_minor": 2
}
